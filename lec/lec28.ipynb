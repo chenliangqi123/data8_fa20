{
 "cells": [
  {
   "cell_type": "code",
   "execution_count": null,
   "metadata": {},
   "outputs": [],
   "source": [
    "import matplotlib\n",
    "from datascience import *\n",
    "%matplotlib inline\n",
    "import matplotlib.pyplot as plots\n",
    "import numpy as np\n",
    "plots.style.use('fivethirtyeight')"
   ]
  },
  {
   "cell_type": "markdown",
   "metadata": {},
   "source": [
    "## Distribution of the Sample Average"
   ]
  },
  {
   "cell_type": "markdown",
   "metadata": {},
   "source": [
    "We will work with the flight delays dataset again (flight delays for United flights in summer 2015)."
   ]
  },
  {
   "cell_type": "code",
   "execution_count": null,
   "metadata": {},
   "outputs": [],
   "source": [
    "united = Table.read_table('united_summer2015.csv')\n",
    "united_bins = np.arange(-20, 300, 10)\n",
    "united.hist('Delay', bins=united_bins)"
   ]
  },
  {
   "cell_type": "code",
   "execution_count": null,
   "metadata": {},
   "outputs": [],
   "source": [
    "delays = united.column('Delay')\n",
    "delay_mean = np.mean(delays)\n",
    "delay_sd = np.std(delays)\n",
    "delay_mean, delay_sd"
   ]
  },
  {
   "cell_type": "markdown",
   "metadata": {},
   "source": [
    "We'll write code to generate a sample of flights, and take the mean delay in that sample.  We call that the *sample mean*.  Remember that the sample mean is an estimate of the population mean (i.e., mean flight delay of all flights)."
   ]
  },
  {
   "cell_type": "code",
   "execution_count": null,
   "metadata": {},
   "outputs": [],
   "source": [
    "def one_sample_mean(sample_size):\n",
    "    \"\"\"Take a sample from the population of flights and compute its mean\"\"\"\n",
    "    sampled_flights = united.sample(sample_size)\n",
    "    return np.mean(sampled_flights.column('Delay'))"
   ]
  },
  {
   "cell_type": "markdown",
   "metadata": {},
   "source": [
    "Let's take many samples, compute the mean of each, and look at the distribution of these sample means."
   ]
  },
  {
   "cell_type": "code",
   "execution_count": null,
   "metadata": {},
   "outputs": [],
   "source": [
    "def ten_thousand_sample_means(sample_size):\n",
    "    \"\"\"Use the bootstrap to approximate the distribution of the sample mean\"\"\"\n",
    "    means = make_array()\n",
    "    for i in np.arange(10000):\n",
    "        mean = one_sample_mean(sample_size)\n",
    "        means = np.append(means, mean)\n",
    "    return means"
   ]
  },
  {
   "cell_type": "code",
   "execution_count": null,
   "metadata": {},
   "outputs": [],
   "source": [
    "sample_means_400 = ten_thousand_sample_means(400)\n",
    "Table().with_column('Mean of 400 flight delays', sample_means_400).hist(bins=20)\n",
    "print('Population Average:', delay_mean)"
   ]
  },
  {
   "cell_type": "markdown",
   "metadata": {},
   "source": [
    "How many possible ways are there that the sample could have come out?  In other words, how many possible samples are there?"
   ]
  },
  {
   "cell_type": "code",
   "execution_count": null,
   "metadata": {},
   "outputs": [],
   "source": [
    "united.num_rows"
   ]
  },
  {
   "cell_type": "code",
   "execution_count": null,
   "metadata": {},
   "outputs": [],
   "source": [
    "# How many possible sample means are there?\n",
    "united.num_rows ** 400"
   ]
  },
  {
   "cell_type": "markdown",
   "metadata": {},
   "source": [
    "Far too many samples to enumerate them all!  So while there *is* a well-defined distribution given by all possible sample means from all samples, it is too hard to compute it exactly.  Instead, we approximate this distribution by drawing 10000 samples from it and drawing the histogram of those samples."
   ]
  },
  {
   "cell_type": "markdown",
   "metadata": {},
   "source": [
    "Now let's look at how the shape of this distribution of sample means depends on the size of the sample."
   ]
  },
  {
   "cell_type": "code",
   "execution_count": null,
   "metadata": {},
   "outputs": [],
   "source": [
    "sample_means_900 = ten_thousand_sample_means(900)"
   ]
  },
  {
   "cell_type": "code",
   "execution_count": null,
   "metadata": {},
   "outputs": [],
   "source": [
    "means_tbl = Table().with_columns(\n",
    "    '400', sample_means_400,\n",
    "    '900', sample_means_900,\n",
    ")"
   ]
  },
  {
   "cell_type": "code",
   "execution_count": null,
   "metadata": {},
   "outputs": [],
   "source": [
    "means_tbl.hist(bins = np.arange(5, 31, 0.5))\n",
    "plots.title('Distribution of Sample Average');"
   ]
  },
  {
   "cell_type": "markdown",
   "metadata": {},
   "source": [
    "How would you interpret this picture?  What does it tell you about the effect of increasing the sample size?"
   ]
  },
  {
   "cell_type": "code",
   "execution_count": null,
   "metadata": {},
   "outputs": [],
   "source": [
    "\"\"\"Empirical distribution of random sample means\"\"\"\n",
    "\n",
    "def plot_and_summarize_sample_means(sample_size):\n",
    "    sample_means = ten_thousand_sample_means(sample_size)\n",
    "    sample_means_tbl = Table().with_column('Sample Means', sample_means)\n",
    "    \n",
    "    # Print some information about the distribution of the sample means\n",
    "    print(\"Sample size: \", sample_size)\n",
    "    print(\"Population mean:\", delay_mean)\n",
    "    print(\"Average of sample means: \", np.mean(sample_means))\n",
    "    print(\"Population SD:\", delay_sd)\n",
    "    print(\"SD of sample means:\", np.std(sample_means))\n",
    "\n",
    "    # Plot a histogram of the sample means\n",
    "    sample_means_tbl.hist(bins=20)\n",
    "    plots.xlabel('Sample Means')\n",
    "    plots.title('Sample Size ' + str(sample_size))"
   ]
  },
  {
   "cell_type": "code",
   "execution_count": null,
   "metadata": {
    "scrolled": false
   },
   "outputs": [],
   "source": [
    "plot_and_summarize_sample_means(100)"
   ]
  },
  {
   "cell_type": "code",
   "execution_count": null,
   "metadata": {},
   "outputs": [],
   "source": [
    "39.48 / 3.932"
   ]
  },
  {
   "cell_type": "code",
   "execution_count": null,
   "metadata": {},
   "outputs": [],
   "source": [
    "plot_and_summarize_sample_means(400)"
   ]
  },
  {
   "cell_type": "code",
   "execution_count": null,
   "metadata": {},
   "outputs": [],
   "source": [
    "39.48 / 1.973"
   ]
  },
  {
   "cell_type": "code",
   "execution_count": null,
   "metadata": {},
   "outputs": [],
   "source": [
    "plot_and_summarize_sample_means(625)"
   ]
  },
  {
   "cell_type": "code",
   "execution_count": null,
   "metadata": {},
   "outputs": [],
   "source": [
    "39.48 / 1.577"
   ]
  },
  {
   "cell_type": "code",
   "execution_count": null,
   "metadata": {},
   "outputs": [],
   "source": [
    "39.48 / np.sqrt(100)"
   ]
  },
  {
   "cell_type": "code",
   "execution_count": null,
   "metadata": {},
   "outputs": [],
   "source": [
    "39.48 / np.sqrt(400)"
   ]
  },
  {
   "cell_type": "code",
   "execution_count": null,
   "metadata": {},
   "outputs": [],
   "source": [
    "39.48 / np.sqrt(625)"
   ]
  }
 ],
 "metadata": {
  "anaconda-cloud": {},
  "kernelspec": {
   "display_name": "Python 3",
   "language": "python",
   "name": "python3"
  },
  "language_info": {
   "codemirror_mode": {
    "name": "ipython",
    "version": 3
   },
   "file_extension": ".py",
   "mimetype": "text/x-python",
   "name": "python",
   "nbconvert_exporter": "python",
   "pygments_lexer": "ipython3",
   "version": "3.8.6"
  }
 },
 "nbformat": 4,
 "nbformat_minor": 1
}
